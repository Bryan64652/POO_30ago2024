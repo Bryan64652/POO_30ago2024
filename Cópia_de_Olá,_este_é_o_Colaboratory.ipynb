{
  "cells": [
    {
      "cell_type": "markdown",
      "metadata": {
        "id": "view-in-github",
        "colab_type": "text"
      },
      "source": [
        "<a href=\"https://colab.research.google.com/github/Bryan64652/POO_30ago2024/blob/main/C%C3%B3pia_de_Ol%C3%A1%2C_este_%C3%A9_o_Colaboratory.ipynb\" target=\"_parent\"><img src=\"https://colab.research.google.com/assets/colab-badge.svg\" alt=\"Open In Colab\"/></a>"
      ]
    },
    {
      "cell_type": "code",
      "source": [
        "F = float(input(\"Digite valor em Graus Farenheit:  \"))\n",
        "C = (5/9)*(F-32)\n",
        "print(f\"O valor de {F}°F corresponde ao valor de {C}°C\")"
      ],
      "metadata": {
        "colab": {
          "base_uri": "https://localhost:8080/"
        },
        "id": "4ID9EM9Xg7Bs",
        "outputId": "1245ec09-a35a-42b0-b270-b75d7141f467"
      },
      "execution_count": null,
      "outputs": [
        {
          "output_type": "stream",
          "name": "stdout",
          "text": [
            "Digite valor em Graus Farenheit:  10\n",
            "O valor de 10.0°F corresponde ao valor de -12.222222222222223°C\n"
          ]
        }
      ]
    },
    {
      "cell_type": "markdown",
      "source": [
        "#EX02) Converter Polegadas para mim\n",
        "Entreda P processamento:MM = P*25.4\n",
        "Saida: MM"
      ],
      "metadata": {
        "id": "PGSWua5aj4HV"
      }
    },
    {
      "cell_type": "code",
      "source": [
        "P = float(input(\"Digite o valor em Polegadas: \"))\n",
        "MM = P*25.4\n",
        "print(f\"O valor de {P}pol corresponde ao valor de {MM}mm\")\n"
      ],
      "metadata": {
        "colab": {
          "base_uri": "https://localhost:8080/"
        },
        "id": "LQNB2x0-kPAm",
        "outputId": "f47bd3c6-a135-4fb8-c08e-0687ac57b749"
      },
      "execution_count": null,
      "outputs": [
        {
          "output_type": "stream",
          "name": "stdout",
          "text": [
            "Digite o valor em Polegadas: 10\n",
            "O valor de 10.0pol corresponde ao valor de 254.0mm\n"
          ]
        }
      ]
    },
    {
      "cell_type": "markdown",
      "source": [
        "#EX3CALCULADORA DE IDADE"
      ],
      "metadata": {
        "id": "Ok8paVTrml9n"
      }
    },
    {
      "cell_type": "code",
      "source": [
        "idade = int(input(\"Digite sua idade\"))\n",
        "\n",
        "#Verifique se a idade e maior ou igual a 16 anos e menor que 70 anos.\n",
        "\n",
        "if 16<=idade<70:\n",
        "  print(\"Voce pode votar\")\n",
        "else:\n",
        "  print(\"Voce não pode votar\")"
      ],
      "metadata": {
        "id": "DxqYAMsxnQLO",
        "outputId": "4fb74a85-334e-4fbf-9fab-e437d571d198",
        "colab": {
          "base_uri": "https://localhost:8080/"
        }
      },
      "execution_count": null,
      "outputs": [
        {
          "output_type": "stream",
          "name": "stdout",
          "text": [
            "Digite sua idade20\n",
            "Voce pode votar\n"
          ]
        }
      ]
    },
    {
      "cell_type": "markdown",
      "source": [
        "#EX5) (em casa) CALCULAR UM RAIO DE UMA ESFERA\n",
        "\n"
      ],
      "metadata": {
        "id": "8U1DIvAVo2PG"
      }
    },
    {
      "cell_type": "code",
      "source": [
        "r= float(input(\"Digite o raio de esfera   \"))\n",
        "v= (4/3.0)*3.14*(r**3)\n",
        "print(f\"O valor da esfera é {v} \")"
      ],
      "metadata": {
        "id": "Zs0h5zKLo2bl",
        "outputId": "437d28b0-e045-408a-e1f2-97734fee3b7f",
        "colab": {
          "base_uri": "https://localhost:8080/"
        }
      },
      "execution_count": null,
      "outputs": [
        {
          "output_type": "stream",
          "name": "stdout",
          "text": [
            "Digite o raio de esfera   5\n",
            "O valor da esfera é 523.3333333333334\n"
          ]
        }
      ]
    }
  ],
  "metadata": {
    "colab": {
      "toc_visible": true,
      "provenance": [],
      "include_colab_link": true
    },
    "kernelspec": {
      "display_name": "Python 3",
      "name": "python3"
    }
  },
  "nbformat": 4,
  "nbformat_minor": 0
}